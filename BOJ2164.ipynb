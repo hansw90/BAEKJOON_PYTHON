{
 "cells": [
  {
   "cell_type": "markdown",
   "metadata": {},
   "source": [
    "# BOJ2164 카드2\n",
    "\n",
    "## 문제\n",
    "N장의 카드가 있다. 각각의 카드는 차례로 1부터 N까지의 번호가 붙어 있으며, 1번 카드가 제일 위에, N번 카드가 제일 아래인 상태로 순서대로 카드가 놓여 있다.\n",
    "\n",
    "이제 다음과 같은 동작을 카드가 한 장 남을 때까지 반복하게 된다. 우선, 제일 위에 있는 카드를 바닥에 버린다. 그 다음, 제일 위에 있는 카드를 제일 아래에 있는 카드 밑으로 옮긴다.\n",
    "\n",
    "예를 들어 N=4인 경우를 생각해 보자. 카드는 제일 위에서부터 1234 의 순서로 놓여있다. 1을 버리면 234가 남는다. 여기서 2를 제일 아래로 옮기면 342가 된다. 3을 버리면 42가 되고, 4를 밑으로 옮기면 24가 된다. 마지막으로 2를 버리고 나면, 남는 카드는 4가 된다.\n",
    "\n",
    "N이 주어졌을 때, 제일 마지막에 남게 되는 카드를 구하는 프로그램을 작성하시오.\n",
    "\n",
    "## 입력\n",
    "첫째 줄에 정수 N(1≤N≤500,000)이 주어진다.\n",
    "\n",
    "## 출력\n",
    "첫째 줄에 남게 되는 카드의 번호를 출력한다."
   ]
  },
  {
   "cell_type": "code",
   "execution_count": 18,
   "metadata": {},
   "outputs": [
    {
     "name": "stdout",
     "output_type": "stream",
     "text": [
      "4\n",
      "4\n"
     ]
    }
   ],
   "source": [
    "N = int(input())\n",
    "cards = [card+1 for card in range(N)]\n",
    "\n",
    "while len(cards) != 1 :\n",
    "    del cards[0]\n",
    "    if(len(cards) != 1) :\n",
    "        cards.append(cards[0])\n",
    "        del cards[0]\n",
    "    else :\n",
    "        break\n",
    "\n",
    "print(cards[0])\n",
    "\n",
    "\n",
    "# 이방법은 런타임 에러,,"
   ]
  },
  {
   "cell_type": "code",
   "execution_count": 15,
   "metadata": {},
   "outputs": [
    {
     "name": "stdout",
     "output_type": "stream",
     "text": [
      "4\n",
      "4\n"
     ]
    }
   ],
   "source": [
    "q = [i + 1 for i in range(int(input()))]\n",
    " \n",
    "while len(q) != 1:\n",
    "    q.pop(0)\n",
    "    q.append(q.pop(0))\n",
    " \n",
    "print(q[0])\n",
    "\n",
    "\n",
    "# 별 다른건 없지만 이것도 타임에러,,"
   ]
  },
  {
   "cell_type": "code",
   "execution_count": 17,
   "metadata": {},
   "outputs": [
    {
     "name": "stdout",
     "output_type": "stream",
     "text": [
      "4\n",
      "4\n"
     ]
    }
   ],
   "source": [
    "# 아래 queue 모듈을 이용하면 시간문제 없이 잘 해결이 된다.\n",
    "\n",
    "import queue\n",
    "\n",
    "\n",
    "q=queue.Queue()\n",
    "a=int(input())\n",
    "member=0\n",
    "\n",
    "for i in range(0,a):\n",
    "    q.put(i+1)\n",
    "\n",
    "\n",
    "while(q.qsize()):\n",
    "    if q.qsize()==1:\n",
    "        print(q.get_nowait())\n",
    "        break;\n",
    "\n",
    "    q.get_nowait()\n",
    "    member=q.get_nowait()\n",
    "    q.put_nowait(member)"
   ]
  },
  {
   "cell_type": "markdown",
   "metadata": {},
   "source": [
    "## Pyhon.module queue\n",
    "\n",
    "컴퓨터분야에서 널리 이용되는 자료구조로 스택과 큐가 있음\n",
    "스택과 큐는 프로그래밍 할대 기본이 되는 자료구조로 이를 이용하여 함수파라미터 전달, 메세지 큐등으로 다양하게 확장 가능하다\n",
    "\n",
    "- qsize() : 큐 객체에 입력된 아이템의 개수를 반환\n",
    "- put(item[, block[, timeout]]) : 큐 객체에 아이템을 입력한다.\n",
    "- put_nowait(item) : 블로킹(blocking)없이 큐 객체에 아이템을 입력한다.큐 객체가 꽉 차 있는 경우에는 queue.Full예외 발생\n",
    "- get([block[, timeout]]) :생성된 큐 객체 특성에 맞추어, 아이템 1개를 반환\n",
    "- get_nowait() : 블로킹(blocking)없이 큐 객체에 들어있는 아이템을 반환, 큐 객체에 아이템이 없는 경우에는 queue.Empty 예외 발생\n",
    "\n"
   ]
  },
  {
   "cell_type": "code",
   "execution_count": 21,
   "metadata": {},
   "outputs": [
    {
     "name": "stdout",
     "output_type": "stream",
     "text": [
      "3\n",
      "apple\n",
      "banana\n",
      "10\n"
     ]
    }
   ],
   "source": [
    "import queue\n",
    "q = queue.Queue()\n",
    "q.put('apple')\n",
    "q.put('banana')\n",
    "q.put(10)\n",
    "print(q.qsize())\n",
    "print(q.get())\n",
    "print(q.get())\n",
    "print(q.get())"
   ]
  },
  {
   "cell_type": "code",
   "execution_count": null,
   "metadata": {},
   "outputs": [],
   "source": [
    "\"\"\"\n",
    "put_nowait()과 get_nowait()메서드\n",
    "\n",
    "큐 객체 생성시 저장할 수 있는 아이템 크기를 명시적으로 지정할 수 있다.\n",
    "이러한 경우 큐 객체에 저장된 아이템이 없는 상태에서 get()이 호출되거나, 반대로 아이템이 저장할 수 있는 사이즈를 꽉 채운 상태에서 put() 이 호출되는 경우, 큐 객체는 블록킹 된다.\n",
    "물론 블록킹이 될 시간을 초단위로 입력이 가능하다.\n",
    "\"\"\"\n",
    "\n",
    "import queue\n",
    "q = queue.Queue(2)\n",
    "q.put(1)\n",
    "q.put(2)\n",
    "q.put(3) #작업이 끝나지 않고 계속된다.\n"
   ]
  },
  {
   "cell_type": "code",
   "execution_count": null,
   "metadata": {},
   "outputs": [],
   "source": [
    "\"\"\"\n",
    "위와 같은 상황을 피하고자 put_nowait()과 get_nowait() 메서드를 사용하는 것이다.\n",
    "\"\"\"\n"
   ]
  }
 ],
 "metadata": {
  "kernelspec": {
   "display_name": "Python 3",
   "language": "python",
   "name": "python3"
  },
  "language_info": {
   "codemirror_mode": {
    "name": "ipython",
    "version": 3
   },
   "file_extension": ".py",
   "mimetype": "text/x-python",
   "name": "python",
   "nbconvert_exporter": "python",
   "pygments_lexer": "ipython3",
   "version": "3.5.5"
  }
 },
 "nbformat": 4,
 "nbformat_minor": 2
}
