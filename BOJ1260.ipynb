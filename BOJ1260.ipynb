{
 "cells": [
  {
   "cell_type": "markdown",
   "metadata": {},
   "source": [
    "## 문제\n",
    "그래프를 DFS로 탐색한 결과와 BFS로 탐색한 결과를 출력하는 프로그램을 작성하시오. 단, 방문할 수 있는 정점이 여러 개인 경우에는 정점 번호가 작은 것을 먼저 방문하고, 더 이상 방문할 수 있는 점이 없는 경우 종료한다. 정점 번호는 1번부터 N번까지이다.\n",
    "\n",
    "## 입력\n",
    "첫째 줄에 정점의 개수 N(1 ≤ N ≤ 1,000), 간선의 개수 M(1 ≤ M ≤ 10,000), 탐색을 시작할 정점의 번호 V가 주어진다. 다음 M개의 줄에는 간선이 연결하는 두 정점의 번호가 주어진다. 어떤 두 정점 사이에 여러 개의 간선이 있을 수 있다. 입력으로 주어지는 간선은 양방향이다.\n",
    "\n",
    "## 출력\n",
    "첫째 줄에 DFS를 수행한 결과를, 그 다음 줄에는 BFS를 수행한 결과를 출력한다. V부터 방문된 점을 순서대로 출력하면 된다."
   ]
  },
  {
   "cell_type": "code",
   "execution_count": 63,
   "metadata": {},
   "outputs": [
    {
     "name": "stdout",
     "output_type": "stream",
     "text": [
      "4 5 1\n",
      "1 2\n",
      "1 3\n",
      "1 4\n",
      "2 4\n",
      "3 4\n",
      "[2, 3, 4]\n",
      "[2, 3]\n",
      "[]\n",
      "[]\n",
      "[1, 4, 3, 2]\n",
      "[1, 2, 3, 4]\n"
     ]
    }
   ],
   "source": [
    "# dic 만들기\n",
    "\n",
    "N, M, V = map(int,input().split())\n",
    "graph = {i+1:[] for i in range(N)}\n",
    "for j in range(M) :\n",
    "    x,y = map(int,input().split())\n",
    "    graph[x].append(y)\n",
    "    graph[y].append(x)    \n",
    "\n",
    "# DFS\n",
    "\n",
    "def dfs(graph,start) :\n",
    "    visit = list()\n",
    "    stack = list()\n",
    "    stack.append(start)\n",
    "    \n",
    "    while stack :\n",
    "        node = stack.pop()\n",
    "        if node not in visit :\n",
    "            visit.append(node)\n",
    "            temp = list(set(graph[node]) - set(visit))\n",
    "            print(temp)\n",
    "            stack += list(set(graph[node]) - set(visit))\n",
    "    return visit\n",
    "\n",
    "# BFS\n",
    "def bfs(graph,start) :\n",
    "    visit = list()\n",
    "    queue = list() \n",
    "    \n",
    "    queue.append(start)\n",
    "    while queue :\n",
    "        node = queue.pop(0)\n",
    "        if node not in visit :\n",
    "            visit.append(node)\n",
    "            queue.extend(graph[node])\n",
    "            \n",
    "    return visit\n",
    "\n",
    "\n",
    "\n",
    "\n",
    "print(dfs(graph,V))\n",
    "print(bfs(graph,V))"
   ]
  },
  {
   "cell_type": "code",
   "execution_count": 61,
   "metadata": {},
   "outputs": [
    {
     "data": {
      "text/plain": [
       "{1: [2, 3, 4], 2: [1, 4], 3: [1, 4], 4: [1, 2, 3]}"
      ]
     },
     "execution_count": 61,
     "metadata": {},
     "output_type": "execute_result"
    }
   ],
   "source": [
    "graph"
   ]
  },
  {
   "cell_type": "code",
   "execution_count": 56,
   "metadata": {},
   "outputs": [
    {
     "data": {
      "text/plain": [
       "{1: [2, 3, 4], 2: [1, 4], 3: [1, 4], 4: [1, 2, 3]}"
      ]
     },
     "execution_count": 56,
     "metadata": {},
     "output_type": "execute_result"
    }
   ],
   "source": [
    "graph"
   ]
  },
  {
   "cell_type": "code",
   "execution_count": 53,
   "metadata": {},
   "outputs": [
    {
     "data": {
      "text/plain": [
       "[[0, 1, 1, 1], [1, 0, 0, 1], [1, 0, 0, 1], [1, 1, 1, 0]]"
      ]
     },
     "execution_count": 53,
     "metadata": {},
     "output_type": "execute_result"
    }
   ],
   "source": [
    "graph"
   ]
  },
  {
   "cell_type": "code",
   "execution_count": 38,
   "metadata": {},
   "outputs": [
    {
     "data": {
      "text/plain": [
       "{1, 2, 3, 4}"
      ]
     },
     "execution_count": 38,
     "metadata": {},
     "output_type": "execute_result"
    }
   ],
   "source": [
    "set(graph)"
   ]
  },
  {
   "cell_type": "code",
   "execution_count": null,
   "metadata": {},
   "outputs": [],
   "source": []
  }
 ],
 "metadata": {
  "kernelspec": {
   "display_name": "Python 3",
   "language": "python",
   "name": "python3"
  },
  "language_info": {
   "codemirror_mode": {
    "name": "ipython",
    "version": 3
   },
   "file_extension": ".py",
   "mimetype": "text/x-python",
   "name": "python",
   "nbconvert_exporter": "python",
   "pygments_lexer": "ipython3",
   "version": "3.7.0"
  }
 },
 "nbformat": 4,
 "nbformat_minor": 2
}
