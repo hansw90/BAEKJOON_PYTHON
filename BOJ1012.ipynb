{
 "cells": [
  {
   "cell_type": "markdown",
   "metadata": {},
   "source": [
    "# 유기농 배추"
   ]
  },
  {
   "cell_type": "code",
   "execution_count": 85,
   "metadata": {},
   "outputs": [
    {
     "name": "stdout",
     "output_type": "stream",
     "text": [
      "2\n",
      "10 8 17\n",
      "0 0\n",
      "1 0\n",
      "1 1\n",
      "4 2\n",
      "4 3\n",
      "4 5\n",
      "2 4\n",
      "3 4\n",
      "7 4\n",
      "8 4\n",
      "9 4\n",
      "7 5\n",
      "8 5\n",
      "9 5\n",
      "7 6\n",
      "8 6\n",
      "9 6\n",
      "5\n",
      "10 10 1\n",
      "5 5\n",
      "1\n"
     ]
    }
   ],
   "source": [
    "import sys\n",
    "sys.setrecursionlimit(10000)  ## 재귀 깊이의 한계치를 설정\n",
    "\n",
    "T = int(input())\n",
    "cnt = 0\n",
    "dx = [-1,0,1,0]\n",
    "dy = [0,-1,0,1]\n",
    "\n",
    "def dfs(x,y) :\n",
    "    global cnt\n",
    "    ground[x][y] = 0\n",
    "    cnt += 1\n",
    "    for k in range(4) :\n",
    "        nx = x + dx[k]\n",
    "        ny = y + dy[k]\n",
    "        if nx < 0 or nx >= M or ny < 0 or ny >= N :\n",
    "            continue\n",
    "        if ground[nx][ny] == 1 :\n",
    "            dfs(nx,ny)\n",
    "        \n",
    "for _ in range(T) :\n",
    "    \n",
    "    result = list()\n",
    "    M,N,K = map(int,input().split()) # M : 가로길이, N : 세로길이, K : 배추개수\n",
    "    ground = [[0]*N for _ in range(M)]\n",
    "    for _ in range(K) :\n",
    "        x,y = map(int,input().split())\n",
    "        ground[x][y] = 1\n",
    "        \n",
    "    for i in range(M) :\n",
    "        for j in range(N) :\n",
    "            if ground[i][j] == 1 :\n",
    "                cnt = 0 \n",
    "                dfs(i,j)\n",
    "                result.append(cnt)\n",
    "        \n",
    "    print(len(result))\n"
   ]
  },
  {
   "cell_type": "code",
   "execution_count": 79,
   "metadata": {},
   "outputs": [],
   "source": []
  },
  {
   "cell_type": "code",
   "execution_count": 80,
   "metadata": {},
   "outputs": [],
   "source": []
  },
  {
   "cell_type": "code",
   "execution_count": 81,
   "metadata": {},
   "outputs": [],
   "source": []
  },
  {
   "cell_type": "code",
   "execution_count": 77,
   "metadata": {},
   "outputs": [],
   "source": [
    "import copy\n",
    "sss = copy.deepcopy(ground)"
   ]
  },
  {
   "cell_type": "code",
   "execution_count": 78,
   "metadata": {},
   "outputs": [
    {
     "data": {
      "text/plain": [
       "[[1, 0, 0, 0, 0, 0, 0, 0],\n",
       " [1, 1, 0, 0, 0, 0, 0, 0],\n",
       " [0, 0, 0, 0, 1, 0, 0, 0],\n",
       " [0, 0, 0, 0, 1, 0, 0, 0],\n",
       " [0, 0, 1, 1, 0, 1, 0, 0],\n",
       " [0, 0, 0, 0, 0, 0, 0, 0],\n",
       " [0, 0, 0, 0, 0, 0, 0, 0],\n",
       " [0, 0, 0, 0, 1, 1, 1, 0],\n",
       " [0, 0, 0, 0, 1, 1, 1, 0],\n",
       " [0, 0, 0, 0, 1, 1, 1, 0]]"
      ]
     },
     "execution_count": 78,
     "metadata": {},
     "output_type": "execute_result"
    }
   ],
   "source": [
    "sss"
   ]
  },
  {
   "cell_type": "code",
   "execution_count": 82,
   "metadata": {},
   "outputs": [
    {
     "data": {
      "text/plain": [
       "[3, 2, 2, 1, 9]"
      ]
     },
     "execution_count": 82,
     "metadata": {},
     "output_type": "execute_result"
    }
   ],
   "source": [
    "result"
   ]
  },
  {
   "cell_type": "code",
   "execution_count": 37,
   "metadata": {},
   "outputs": [],
   "source": []
  },
  {
   "cell_type": "code",
   "execution_count": null,
   "metadata": {},
   "outputs": [],
   "source": []
  }
 ],
 "metadata": {
  "kernelspec": {
   "display_name": "Python 3",
   "language": "python",
   "name": "python3"
  },
  "language_info": {
   "codemirror_mode": {
    "name": "ipython",
    "version": 3
   },
   "file_extension": ".py",
   "mimetype": "text/x-python",
   "name": "python",
   "nbconvert_exporter": "python",
   "pygments_lexer": "ipython3",
   "version": "3.7.0"
  }
 },
 "nbformat": 4,
 "nbformat_minor": 2
}
