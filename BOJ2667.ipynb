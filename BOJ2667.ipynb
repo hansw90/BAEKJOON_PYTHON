{
 "cells": [
  {
   "cell_type": "markdown",
   "metadata": {},
   "source": [
    "# 단지번호붙이기"
   ]
  },
  {
   "cell_type": "code",
   "execution_count": 10,
   "metadata": {},
   "outputs": [
    {
     "name": "stdout",
     "output_type": "stream",
     "text": [
      "7\n",
      "0110100\n",
      "0110101\n",
      "1110101\n",
      "0000111\n",
      "0100000\n",
      "0111110\n",
      "0111000\n"
     ]
    }
   ],
   "source": [
    "N = int(input())\n",
    "matrix = []\n",
    "dx = [-1,0,1,0]\n",
    "dy = [0,1,0,-1]\n",
    "cnt = 0\n",
    "apt=[]\n",
    "\n",
    "for _ in range(N) :\n",
    "    matrix.append(list(map(int, input())))\n",
    "visit = [[0]*N for i in range(N)]\n"
   ]
  },
  {
   "cell_type": "code",
   "execution_count": 21,
   "metadata": {},
   "outputs": [],
   "source": [
    "def dfs(x, y) :\n",
    "    global cnt\n",
    "    cnt += 1\n",
    "    matrix[x][y] = 0\n",
    "    for k in range(4) :\n",
    "        nx = x + dx[k]\n",
    "        ny = y + dy[k]\n",
    "        if nx < 0 or nx >= N or ny < 0 or ny >= N or matrix[nx][ny] ==0:\n",
    "            continue\n",
    "        \n",
    "        dfs(nx,ny)"
   ]
  },
  {
   "cell_type": "code",
   "execution_count": 26,
   "metadata": {},
   "outputs": [
    {
     "name": "stdout",
     "output_type": "stream",
     "text": [
      "7\n",
      "8\n",
      "9\n"
     ]
    }
   ],
   "source": [
    "for i in range(N) :\n",
    "    for j in range(N) :\n",
    "        if matrix[i][j] != 0 :\n",
    "            cnt = 0\n",
    "            dfs(i,j)\n",
    "            apt.append(cnt)\n",
    "            \n",
    "for t in range(len(apt)) :\n",
    "    print(apt[t])"
   ]
  },
  {
   "cell_type": "code",
   "execution_count": 24,
   "metadata": {},
   "outputs": [
    {
     "data": {
      "text/plain": [
       "[[0, 0, 0, 0, 0, 0, 0],\n",
       " [0, 0, 0, 0, 0, 0, 0],\n",
       " [0, 0, 0, 0, 0, 0, 0],\n",
       " [0, 0, 0, 0, 0, 0, 0],\n",
       " [0, 0, 0, 0, 0, 0, 0],\n",
       " [0, 0, 0, 0, 0, 0, 0],\n",
       " [0, 0, 0, 0, 0, 0, 0]]"
      ]
     },
     "execution_count": 24,
     "metadata": {},
     "output_type": "execute_result"
    }
   ],
   "source": [
    "matrix"
   ]
  },
  {
   "cell_type": "code",
   "execution_count": 27,
   "metadata": {},
   "outputs": [
    {
     "data": {
      "text/plain": [
       "[7, 8, 9]"
      ]
     },
     "execution_count": 27,
     "metadata": {},
     "output_type": "execute_result"
    }
   ],
   "source": [
    "apt"
   ]
  },
  {
   "cell_type": "code",
   "execution_count": 28,
   "metadata": {},
   "outputs": [
    {
     "name": "stdout",
     "output_type": "stream",
     "text": [
      "7\n",
      "0110100\n",
      "0110101\n",
      "1110101\n",
      "0000111\n",
      "0100000\n",
      "0111110\n",
      "0111000\n",
      "7\n",
      "8\n",
      "9\n"
     ]
    }
   ],
   "source": [
    "N = int(input())\n",
    "matrix = []\n",
    "dx = [-1,0,1,0]\n",
    "dy = [0,1,0,-1]\n",
    "cnt = 0\n",
    "apt=[]\n",
    "\n",
    "for _ in range(N) :\n",
    "    matrix.append(list(map(int, input())))\n",
    "visit = [[0]*N for i in range(N)]\n",
    "\n",
    "def dfs(x, y) :\n",
    "    global cnt\n",
    "    cnt += 1\n",
    "    matrix[x][y] = 0\n",
    "    for k in range(4) :\n",
    "        nx = x + dx[k]\n",
    "        ny = y + dy[k]\n",
    "        if nx < 0 or nx >= N or ny < 0 or ny >= N or matrix[nx][ny] ==0:\n",
    "            continue\n",
    "        \n",
    "        dfs(nx,ny)\n",
    "        \n",
    "for i in range(N) :\n",
    "    for j in range(N) :\n",
    "        if matrix[i][j] != 0 :\n",
    "            cnt = 0\n",
    "            dfs(i,j)\n",
    "            apt.append(cnt)\n",
    "\n",
    "print(len(apt))\n",
    "for t in rangea(len(apt)) :\n",
    "    print(apt[t])"
   ]
  },
  {
   "cell_type": "code",
   "execution_count": null,
   "metadata": {},
   "outputs": [],
   "source": []
  }
 ],
 "metadata": {
  "kernelspec": {
   "display_name": "Python 3",
   "language": "python",
   "name": "python3"
  },
  "language_info": {
   "codemirror_mode": {
    "name": "ipython",
    "version": 3
   },
   "file_extension": ".py",
   "mimetype": "text/x-python",
   "name": "python",
   "nbconvert_exporter": "python",
   "pygments_lexer": "ipython3",
   "version": "3.7.0"
  }
 },
 "nbformat": 4,
 "nbformat_minor": 2
}
