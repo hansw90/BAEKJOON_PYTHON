{
 "cells": [
  {
   "cell_type": "markdown",
   "metadata": {},
   "source": [
    "# Merge Sort"
   ]
  },
  {
   "cell_type": "code",
   "execution_count": 5,
   "metadata": {},
   "outputs": [
    {
     "data": {
      "text/plain": [
       "[10, 9, 7, 7, 6, 5, 5, 4, 4, 3, 2, 1]"
      ]
     },
     "execution_count": 5,
     "metadata": {},
     "output_type": "execute_result"
    }
   ],
   "source": [
    "def merge_sort(list) :\n",
    "    if len(list) <= 1 :\n",
    "        return list\n",
    "    mid = len(list) // 2\n",
    "    leftList= list[:mid]\n",
    "    rightList = list[mid:]\n",
    "    leftList = merge_sort(leftList)\n",
    "    rightList = merge_sort(rightList)\n",
    "    return merge(leftList,rightList)\n",
    "\n",
    "def merge(left,right) :\n",
    "    result = []\n",
    "    while len(left) > 0 or len(right) > 0 :\n",
    "        if len(left) > 0 and len(right) > 0 :\n",
    "            if left[0] <= right[0] :  # 이 방향으로 내림차순 오름차순 정한다.\n",
    "                result.append(left[0])\n",
    "                left = left[1:]\n",
    "            else :\n",
    "                result.append(right[0])\n",
    "                right = right[1:]\n",
    "        elif len(left) > 0 :\n",
    "            result.append(left[0])\n",
    "            left = left[1:]\n",
    "        elif len(right) > 0 :\n",
    "            result.append(right[0])\n",
    "            right = right[1:]\n",
    "    return result\n",
    "\n",
    "merge_sort([1,4,5,6,7,2,3,4,5,7,10,9])"
   ]
  },
  {
   "cell_type": "markdown",
   "metadata": {},
   "source": [
    "# Quick Sort"
   ]
  },
  {
   "cell_type": "code",
   "execution_count": 11,
   "metadata": {},
   "outputs": [
    {
     "data": {
      "text/plain": [
       "[1, 2, 3, 4, 4, 5, 5, 6, 7, 7, 9, 10]"
      ]
     },
     "execution_count": 11,
     "metadata": {},
     "output_type": "execute_result"
    }
   ],
   "source": [
    "def quick_sort(array) :\n",
    "    if len(array) <= 1 :\n",
    "        return array\n",
    "    else :\n",
    "        pivot = array[0]\n",
    "        greater = [element for element in array[1:] if element>=pivot]\n",
    "        lesser = [element for element in array[1:] if element<pivot]\n",
    "        return quick_sort(lesser) + [pivot] + quick_sort(greater)\n",
    "    \n",
    "quick_sort([1,4,5,6,7,2,3,4,5,7,10,9])"
   ]
  },
  {
   "cell_type": "markdown",
   "metadata": {},
   "source": [
    "# Heap Sort\n",
    "\n",
    "힙은 큰 키(우선순위)에 자주 엑세스 하거나 키(우선 순위) 중심으로 정렬된 시퀀스를 활용해야 할 때 유용한 자료구조이다. 힙은 한 노드(node)가 최대 두 개의 자식노드 (child node)를 가지면서 마지막 레벨을 제외한 모든 레벨에서 노드들이 꽉채워진 와전이진트리를 기보으로 한다.\n",
    "\n",
    "## 힙속성\n",
    "    - heap order property : 각 노드의 값은 자신의 자식 노드가 가진 값보다 크거나 같다 (최대 힙,Max heap), 각 노드의 값은 자신의 자식 노드가 가진 값보다 작거나 같다.(최소 힙,Min heap)\n",
    "    - heap shape property : 모양은 완전 이진트리이다. 즉 마지막 레벨의 모든 노드는 왼쪽에 쏠려있다.\n",
    "    \n",
    "\n",
    "## Heap vs Binary Search Tree\n",
    "힙과 이진탐색트리 모두 이진트리라는 공통점을 가지지만 노드값이 다소 다르게 구성돼 있는 점을 확인할 수 있다. 힙은 각 노드의 값이 자식노드보다 큰 반면, 이진탐색트리는 왼쪽 자식노드가 제일 작고 보무노드가 그다음 크며 오른쪽 자식노드가 가장 큰 값을 가진다."
   ]
  },
  {
   "cell_type": "code",
   "execution_count": 13,
   "metadata": {},
   "outputs": [
    {
     "name": "stdout",
     "output_type": "stream",
     "text": [
      "[16, 4, 10, 14, 7, 9, 3, 2, 8, 1]\n",
      "[16, 14, 10, 8, 7, 9, 3, 2, 4, 1]\n"
     ]
    },
    {
     "data": {
      "text/plain": [
       "[1, 2, 3, 4, 7, 8, 9, 10, 14, 16]"
      ]
     },
     "execution_count": 13,
     "metadata": {},
     "output_type": "execute_result"
    }
   ],
   "source": [
    "###### 힙은 아직 잘 모르게씀,,,,,,,,,,,,,,\n",
    "###### 힙 강의 다시보기.............\n",
    "\n",
    "def heapify(unsorted, index, heap_size):\n",
    "    largest = index\n",
    "    left_index = 2 * index + 1\n",
    "    right_index = 2 * index + 2\n",
    "    if left_index < heap_size and unsorted[left_index] > unsorted[largest]:\n",
    "        largest = left_index\n",
    "    if right_index < heap_size and unsorted[right_index] > unsorted[largest]:\n",
    "        largest = right_index\n",
    "    if largest != index:\n",
    "        unsorted[largest], unsorted[index] = unsorted[index], unsorted[largest]\n",
    "        heapify(unsorted, largest, heap_size)\n",
    "        \n",
    "def heap_sort(unsorted):\n",
    "    n = len(unsorted)\n",
    "    # BUILD-MAX-HEAP (A) : 위의 1단계\n",
    "    # 인덱스 : (n을 2로 나눈 몫-1)~0\n",
    "    # 최초 힙 구성시 배열의 중간부터 시작하면 \n",
    "    # 이진트리 성질에 의해 모든 요소값을 \n",
    "    # 서로 한번씩 비교할 수 있게 됨 : O(n)\n",
    "    print(unsorted)\n",
    "    for i in range(n // 2 - 1, -1, -1):\n",
    "        heapify(unsorted, i, n)\n",
    "    print(unsorted)\n",
    "    # Recurrent (B) : 2~4단계\n",
    "    # 한번 힙이 구성되면 개별 노드는\n",
    "    # 최악의 경우에도 트리의 높이(logn)\n",
    "    # 만큼의 자리 이동을 하게 됨\n",
    "    # 이런 노드들이 n개 있으므로 : O(nlogn)\n",
    "    for i in range(n - 1, 0, -1):\n",
    "        unsorted[0], unsorted[i] = unsorted[i], unsorted[0]\n",
    "        heapify(unsorted, 0, i)\n",
    "    return unsorted\n",
    "\n",
    "heap_sort([16, 4, 10, 14, 7, 9, 3, 2, 8, 1])"
   ]
  },
  {
   "cell_type": "code",
   "execution_count": null,
   "metadata": {},
   "outputs": [],
   "source": []
  }
 ],
 "metadata": {
  "kernelspec": {
   "display_name": "Python 3",
   "language": "python",
   "name": "python3"
  },
  "language_info": {
   "codemirror_mode": {
    "name": "ipython",
    "version": 3
   },
   "file_extension": ".py",
   "mimetype": "text/x-python",
   "name": "python",
   "nbconvert_exporter": "python",
   "pygments_lexer": "ipython3",
   "version": "3.5.5"
  }
 },
 "nbformat": 4,
 "nbformat_minor": 2
}
