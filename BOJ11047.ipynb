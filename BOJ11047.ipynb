{
 "cells": [
  {
   "cell_type": "code",
   "execution_count": 12,
   "metadata": {},
   "outputs": [
    {
     "name": "stdout",
     "output_type": "stream",
     "text": [
      "10 4790\n",
      "1\n",
      "5\n",
      "10\n",
      "50\n",
      "100\n",
      "500\n",
      "1000\n",
      "5000\n",
      "10000\n",
      "50000\n",
      "12\n"
     ]
    }
   ],
   "source": [
    "# 동전문제 (그리디알고리즘 이용)\n",
    "\n",
    "N,K = map(int,input().split())\n",
    "\n",
    "V =  [int(input()) for _ in range(N)]\n",
    "count = 0\n",
    "i = 1\n",
    "def coin() :\n",
    "    global K,i,count\n",
    "    \n",
    "    while K > 0 :\n",
    "        if(K//V[-i] > 0 and i <= len(V)) : \n",
    "            count += K//V[-i]\n",
    "            K = K%V[-i]\n",
    "        \n",
    "        i += 1\n",
    "\n",
    "    return count\n",
    "\n",
    "print(coin())"
   ]
  },
  {
   "cell_type": "code",
   "execution_count": 8,
   "metadata": {},
   "outputs": [
    {
     "data": {
      "text/plain": [
       "4790"
      ]
     },
     "execution_count": 8,
     "metadata": {},
     "output_type": "execute_result"
    }
   ],
   "source": [
    "K"
   ]
  },
  {
   "cell_type": "code",
   "execution_count": 3,
   "metadata": {},
   "outputs": [],
   "source": [
    "def coin() :\n",
    "    global K\n",
    "    global i\n",
    "    while K > 0 :\n",
    "        if(K//V[-i] > 0 and i <= len(V)) : \n",
    "            print(K)\n",
    "            count += K//V[-i]\n",
    "            K = K%V[-i]\n",
    "        \n",
    "        i += 1"
   ]
  },
  {
   "cell_type": "code",
   "execution_count": null,
   "metadata": {},
   "outputs": [],
   "source": [
    "coin()"
   ]
  },
  {
   "cell_type": "code",
   "execution_count": null,
   "metadata": {},
   "outputs": [],
   "source": [
    "count"
   ]
  },
  {
   "cell_type": "code",
   "execution_count": 3,
   "metadata": {},
   "outputs": [
    {
     "name": "stdout",
     "output_type": "stream",
     "text": [
      "6\n",
      "5\n",
      "4\n",
      "3\n",
      "2\n",
      "1\n"
     ]
    }
   ],
   "source": [
    "dd = [1,2,3,4,5,6]\n",
    "for i in range(6) :\n",
    "    print(dd[-(i+1)])"
   ]
  },
  {
   "cell_type": "code",
   "execution_count": 1,
   "metadata": {
    "scrolled": true
   },
   "outputs": [
    {
     "name": "stdout",
     "output_type": "stream",
     "text": [
      "4200\n",
      "200\n"
     ]
    }
   ],
   "source": [
    "K = 4200\n",
    "V = [1,5,10,50,100,500,1000,5000,10000,50000]\n",
    "count = 0\n",
    "i = 1\n",
    "while K > 0 :\n",
    "        if(K//V[-i] > 0 and i <= len(V)) : \n",
    "            print(K)\n",
    "            count += K//V[-i]\n",
    "            K = K%V[-i]\n",
    "        \n",
    "        i += 1"
   ]
  },
  {
   "cell_type": "code",
   "execution_count": 2,
   "metadata": {},
   "outputs": [
    {
     "data": {
      "text/plain": [
       "6"
      ]
     },
     "execution_count": 2,
     "metadata": {},
     "output_type": "execute_result"
    }
   ],
   "source": [
    "count"
   ]
  },
  {
   "cell_type": "code",
   "execution_count": null,
   "metadata": {},
   "outputs": [],
   "source": []
  }
 ],
 "metadata": {
  "kernelspec": {
   "display_name": "Python 3",
   "language": "python",
   "name": "python3"
  },
  "language_info": {
   "codemirror_mode": {
    "name": "ipython",
    "version": 3
   },
   "file_extension": ".py",
   "mimetype": "text/x-python",
   "name": "python",
   "nbconvert_exporter": "python",
   "pygments_lexer": "ipython3",
   "version": "3.7.0"
  }
 },
 "nbformat": 4,
 "nbformat_minor": 2
}
