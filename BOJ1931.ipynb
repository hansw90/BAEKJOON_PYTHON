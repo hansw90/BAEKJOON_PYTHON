{
 "cells": [
  {
   "cell_type": "markdown",
   "metadata": {},
   "source": [
    "# 회의실배정 (BOJ1931) \n",
    "## (그리디알고리즘)\n",
    "\n",
    "\n",
    "### - 문제\n",
    "한 개의 회의실이 있는데 이를 사용하고자 하는 N개의 회의들에 대하여 회의실 사용표를 만들려고 한다. 각 회의 I에 대해 시작시간과 끝나는 시간이 주어져 있고, 각 회의가 겹치지 않게 하면서 회의실을 사용할 수 있는 최대수의 회의를 찾아라. 단, 회의는 한번 시작하면 중간에 중단될 수 없으며 한 회의가 끝나는 것과 동시에 다음 회의가 시작될 수 있다. 회의의 시작시간과 끝나는 시간이 같을 수도 있다. 이 경우에는 시작하자마자 끝나는 것으로 생각하면 된다.\n",
    "\n",
    "### - 입력\n",
    "첫째 줄에 회의의 수 N(1 ≤ N ≤ 100,000)이 주어진다. 둘째 줄부터 N+1 줄까지 각 회의의 정보가 주어지는데 이것은 공백을 사이에 두고 회의의 시작시간과 끝나는 시간이 주어진다. 시작 시간과 끝나는 시간은 231-1보다 작거나 같은 자연수 또는 0이다.\n",
    "\n",
    "### - 출력\n",
    "첫째 줄에 최대 사용할 수 있는 회의 수를 출력하여라."
   ]
  },
  {
   "cell_type": "code",
   "execution_count": 1,
   "metadata": {},
   "outputs": [
    {
     "name": "stdout",
     "output_type": "stream",
     "text": [
      "11\n",
      "1 4\n",
      "3 5\n",
      "0 6\n",
      "5 7\n",
      "3 8\n",
      "5 9\n",
      "6 10\n",
      "8 11\n",
      "8 12 \n",
      "2 13\n",
      "12 14\n"
     ]
    }
   ],
   "source": [
    "# 막풀이\n",
    "N = int(input())\n",
    "times =  [list(map(int,input().split())) for _ in range(N)]\n",
    "\n",
    "result = []\n",
    "\n",
    "def search (index,lists) :\n",
    "    for j in range(index,len(times)) :\n",
    "        if(lists[-1] <= times[j][0]) :\n",
    "            lists.extend(times[j])\n",
    "            search(j,lists)\n",
    "    result.append(len(lists))\n",
    "for i in range(len(times)) :\n",
    "    search(i,times[i])\n",
    "\n",
    "print(max(result)//2)"
   ]
  },
  {
   "cell_type": "code",
   "execution_count": null,
   "metadata": {},
   "outputs": [],
   "source": [
    "import sys\n",
    "\n",
    "def greedy(meeting):\n",
    "    meeting_count = 0\n",
    "    start_time = 0\n",
    "\n",
    "    for time in meeting:\n",
    "        if time[0] >= start_time:\n",
    "            start_time = time[1]\n",
    "            meeting_count += 1\n",
    "    return meeting_count\n",
    "\n",
    "\n",
    "if __name__ == \"__main__\":\n",
    "    mCount = int(sys.stdin.readline())\n",
    "    meeting = []\n",
    "    for i in range(mCount):\n",
    "        start, end = map(int, sys.stdin.readline().split())\n",
    "        meeting.append((start, end))\n",
    "    # 시작 시간 기준으로 정렬\n",
    "    meeting = sorted(meeting, key=lambda time: time[0])\n",
    "    # 종료 시간 기준으로 정렬\n",
    "    meeting = sorted(meeting, key=lambda time: time[1])\n",
    "    print(greedy(meeting))"
   ]
  }
 ],
 "metadata": {
  "kernelspec": {
   "display_name": "Python 3",
   "language": "python",
   "name": "python3"
  },
  "language_info": {
   "codemirror_mode": {
    "name": "ipython",
    "version": 3
   },
   "file_extension": ".py",
   "mimetype": "text/x-python",
   "name": "python",
   "nbconvert_exporter": "python",
   "pygments_lexer": "ipython3",
   "version": "3.7.0"
  }
 },
 "nbformat": 4,
 "nbformat_minor": 2
}
