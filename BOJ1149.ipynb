{
 "cells": [
  {
   "cell_type": "markdown",
   "metadata": {},
   "source": [
    "# RGB거리 (BOJ1149)\n",
    "\n",
    "### 문제\n",
    "RGB거리에 사는 사람들은 집을 빨강, 초록, 파랑중에 하나로 칠하려고 한다. 또한, 그들은 모든 이웃은 같은 색으로 칠할 수 없다는 규칙도 정했다. 집 i의 이웃은 집 i-1과 집 i+1이다.\n",
    "\n",
    "각 집을 빨강으로 칠할 때 드는 비용, 초록으로 칠할 때 드는 비용, 파랑으로 드는 비용이 주어질 때, 모든 집을 칠할 때 드는 비용의 최솟값을 구하는 프로그램을 작성하시오.\n",
    "\n",
    "### 입력\n",
    "첫째 줄에 집의 수 N이 주어진다. N은 1,000보다 작거나 같다. 둘째 줄부터 N개의 줄에 각 집을 빨강으로 칠할 때, 초록으로 칠할 때, 파랑으로 칠할 때 드는 비용이 주어진다. 비용은 1,000보다 작거나 같은 자연수이다.\n",
    "\n",
    "### 출력\n",
    "첫째 줄에 모든 집을 칠할 때 드는 비용의 최솟값을 출력한다."
   ]
  },
  {
   "cell_type": "code",
   "execution_count": 2,
   "metadata": {},
   "outputs": [
    {
     "name": "stdout",
     "output_type": "stream",
     "text": [
      "3\n",
      "26 40 83\n",
      "49 60 57\n",
      "13 89 99\n"
     ]
    },
    {
     "data": {
      "text/plain": [
       "[[26, 40, 83], [49, 60, 57], [13, 89, 99]]"
      ]
     },
     "execution_count": 2,
     "metadata": {},
     "output_type": "execute_result"
    }
   ],
   "source": [
    "N = int(input())\n",
    "\n",
    "RGB = [list(map(int,input().split())) for _ in range(N)]\n",
    "RGB"
   ]
  },
  {
   "cell_type": "code",
   "execution_count": 3,
   "metadata": {},
   "outputs": [],
   "source": [
    "house = []\n",
    "def coloring(t) :\n",
    "    \n",
    "    minvalue = 1001\n",
    "    housenum = 1001\n",
    "    while t >= 0 :\n",
    "        for i in range(len(RGBS)) :\n",
    "            if min(RGBS[i]) < minvalue :\n",
    "                minvalue = min(RGBS[i])\n",
    "                housenum = i\n",
    "                \n",
    "        t -= 1\n",
    "        "
   ]
  },
  {
   "cell_type": "code",
   "execution_count": 7,
   "metadata": {},
   "outputs": [
    {
     "data": {
      "text/plain": [
       "0"
      ]
     },
     "execution_count": 7,
     "metadata": {},
     "output_type": "execute_result"
    }
   ],
   "source": [
    "RGB[0].index(26)"
   ]
  },
  {
   "cell_type": "code",
   "execution_count": 12,
   "metadata": {},
   "outputs": [
    {
     "name": "stdout",
     "output_type": "stream",
     "text": [
      "2 13\n"
     ]
    }
   ],
   "source": [
    "minvalue = 1001\n",
    "housenum = 1001\n",
    "for i in range(len(RGB)) :\n",
    "    if min(RGBS[i]) < minvalue :\n",
    "        minvalue = min(RGBS[i])\n",
    "        housenum = i\n",
    "print(housenum,minvalue)"
   ]
  },
  {
   "cell_type": "code",
   "execution_count": 13,
   "metadata": {},
   "outputs": [],
   "source": [
    "import copy\n",
    "RGBS = copy.deepcopy(RGB)"
   ]
  },
  {
   "cell_type": "code",
   "execution_count": 14,
   "metadata": {},
   "outputs": [
    {
     "data": {
      "text/plain": [
       "[[26, 40, 83], [49, 60, 57], [13, 89, 99]]"
      ]
     },
     "execution_count": 14,
     "metadata": {},
     "output_type": "execute_result"
    }
   ],
   "source": [
    "RGBS"
   ]
  },
  {
   "cell_type": "code",
   "execution_count": 23,
   "metadata": {},
   "outputs": [
    {
     "name": "stdout",
     "output_type": "stream",
     "text": [
      "3\n",
      "26 40 83\n",
      "49 60 57\n",
      "13 89 12\n",
      "[[26, 40, 83], [49, 60, 57], [13, 89, 12]] [[-1, -1, -1], [-1, -1, -1], [-1, -1, -1]]\n",
      "96\n"
     ]
    }
   ],
   "source": [
    "import sys\n",
    " \n",
    "def solve(dp, n, cost) :\n",
    "    for i in range(n) :\n",
    "        if i == 0 :\n",
    "            dp[i][0] = cost[i][0] #26\n",
    "            dp[i][1] = cost[i][1] #40\n",
    "            dp[i][2] = cost[i][2] #83\n",
    "            continue\n",
    "        # R\n",
    "        dp[i][0] = cost[i][0] + min(dp[i-1][1], dp[i-1][2])\n",
    "        # G\n",
    "        dp[i][1] = cost[i][1] + min(dp[i-1][0], dp[i-1][2])\n",
    "        # B\n",
    "        dp[i][2] = cost[i][2] + min(dp[i-1][0], dp[i-1][1])\n",
    " \n",
    "    min_val = min(dp[n-1][0], dp[n-1][1], dp[n-1][2])\n",
    "\n",
    "    return min_val\n",
    " \n",
    "if __name__ == '__main__':\n",
    "    n = int(input())\n",
    "    cost = []\n",
    "    house = []\n",
    "    for _ in range(n) :\n",
    "        temp = list(map(int, input().split()))\n",
    "        cost.append(temp)\n",
    "    \n",
    "    dp = [[-1]*3 for _ in range(n)]\n",
    "    print(cost,dp)\n",
    "    print(solve(dp, n, cost))\n"
   ]
  },
  {
   "cell_type": "code",
   "execution_count": 24,
   "metadata": {},
   "outputs": [
    {
     "data": {
      "text/plain": [
       "[[26, 40, 83], [89, 86, 83], [96, 172, 98]]"
      ]
     },
     "execution_count": 24,
     "metadata": {},
     "output_type": "execute_result"
    }
   ],
   "source": [
    "dp"
   ]
  },
  {
   "cell_type": "code",
   "execution_count": null,
   "metadata": {},
   "outputs": [],
   "source": []
  }
 ],
 "metadata": {
  "kernelspec": {
   "display_name": "Python 3",
   "language": "python",
   "name": "python3"
  },
  "language_info": {
   "codemirror_mode": {
    "name": "ipython",
    "version": 3
   },
   "file_extension": ".py",
   "mimetype": "text/x-python",
   "name": "python",
   "nbconvert_exporter": "python",
   "pygments_lexer": "ipython3",
   "version": "3.7.0"
  }
 },
 "nbformat": 4,
 "nbformat_minor": 2
}
