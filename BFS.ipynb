{
 "cells": [
  {
   "cell_type": "code",
   "execution_count": 1,
   "metadata": {},
   "outputs": [
    {
     "name": "stdout",
     "output_type": "stream",
     "text": [
      "['A', 'B', 'C', 'H', 'D', 'G', 'I', 'J', 'M', 'E', 'K', 'F', 'L']\n"
     ]
    }
   ],
   "source": [
    "graph = {\n",
    "    'A': ['B'],\n",
    "    'B': ['A', 'C', 'H'],\n",
    "    'C': ['B', 'D', 'G'],\n",
    "    'D': ['C', 'E'],\n",
    "    'E': ['D', 'F'],\n",
    "    'F': ['E'],\n",
    "    'G': ['C'],\n",
    "    'H': ['B', 'I', 'J', 'M'],\n",
    "    'I': ['H'],\n",
    "    'J': ['H', 'K'],\n",
    "    'K': ['J', 'L'],\n",
    "    'L': ['K'],\n",
    "    'M': ['H']\n",
    "}\n",
    "\n",
    "def bfs(graph, start_node):\n",
    "    visit = list()\n",
    "    queue = list()\n",
    "\n",
    "    queue.append(start_node)\n",
    "\n",
    "    while queue:\n",
    "        node = queue.pop(0)\n",
    "        if node not in visit:\n",
    "            visit.append(node)\n",
    "            queue.extend(graph[node])\n",
    "\n",
    "    return visit\n",
    "\n",
    "print(bfs(graph,'A'))"
   ]
  },
  {
   "cell_type": "code",
   "execution_count": 2,
   "metadata": {},
   "outputs": [
    {
     "data": {
      "text/plain": [
       "['A', 'C', 'H']"
      ]
     },
     "execution_count": 2,
     "metadata": {},
     "output_type": "execute_result"
    }
   ],
   "source": [
    "graph['B']"
   ]
  },
  {
   "cell_type": "code",
   "execution_count": 3,
   "metadata": {},
   "outputs": [
    {
     "data": {
      "text/plain": [
       "[1, 2, 3, [4, 5]]"
      ]
     },
     "execution_count": 3,
     "metadata": {},
     "output_type": "execute_result"
    }
   ],
   "source": [
    "x = [1,2,3]\n",
    "x.append([4,5])\n",
    "x"
   ]
  },
  {
   "cell_type": "code",
   "execution_count": 4,
   "metadata": {},
   "outputs": [
    {
     "data": {
      "text/plain": [
       "[1, 2, 3, 4, 5]"
      ]
     },
     "execution_count": 4,
     "metadata": {},
     "output_type": "execute_result"
    }
   ],
   "source": [
    "y = [1,2,3]\n",
    "y.extend([4,5])\n",
    "y"
   ]
  },
  {
   "cell_type": "markdown",
   "metadata": {},
   "source": [
    "### append 와 extend 의 차이\n",
    "\n",
    "- append 는 객체를 리스트뒤에 추가\n",
    "- extend 는 는 iterable 객체(리스트, 튜플, 딕셔너리 등)의 <엘레멘트>를 list에 appending시킵니다."
   ]
  },
  {
   "cell_type": "code",
   "execution_count": null,
   "metadata": {},
   "outputs": [],
   "source": []
  }
 ],
 "metadata": {
  "kernelspec": {
   "display_name": "Python 3",
   "language": "python",
   "name": "python3"
  },
  "language_info": {
   "codemirror_mode": {
    "name": "ipython",
    "version": 3
   },
   "file_extension": ".py",
   "mimetype": "text/x-python",
   "name": "python",
   "nbconvert_exporter": "python",
   "pygments_lexer": "ipython3",
   "version": "3.7.0"
  }
 },
 "nbformat": 4,
 "nbformat_minor": 2
}
